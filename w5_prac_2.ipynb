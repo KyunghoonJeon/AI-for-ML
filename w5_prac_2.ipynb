{
  "nbformat": 4,
  "nbformat_minor": 0,
  "metadata": {
    "colab": {
      "private_outputs": true,
      "provenance": [],
      "authorship_tag": "ABX9TyM1VGDd5FXoFgq9o46eNale",
      "include_colab_link": true
    },
    "kernelspec": {
      "name": "python3",
      "display_name": "Python 3"
    },
    "language_info": {
      "name": "python"
    }
  },
  "cells": [
    {
      "cell_type": "markdown",
      "metadata": {
        "id": "view-in-github",
        "colab_type": "text"
      },
      "source": [
        "<a href=\"https://colab.research.google.com/github/KyunghoonJeon/AI-for-ML/blob/main/w5_prac_2.ipynb\" target=\"_parent\"><img src=\"https://colab.research.google.com/assets/colab-badge.svg\" alt=\"Open In Colab\"/></a>"
      ]
    },
    {
      "cell_type": "code",
      "execution_count": null,
      "metadata": {
        "id": "4QtNEDqA5LqJ"
      },
      "outputs": [],
      "source": [
        "from google.colab import drive\n",
        "drive.mount('/content/drive')"
      ]
    },
    {
      "cell_type": "code",
      "source": [
        "cd /content/drive/MyDrive/Hands-On-Data-Analysis/ch_04"
      ],
      "metadata": {
        "id": "mkBFZzPD5UzB"
      },
      "execution_count": null,
      "outputs": []
    },
    {
      "cell_type": "code",
      "source": [
        "import pandas as pd\n",
        "\n",
        "weather = pd.read_csv('data/nyc_weather_2018.csv')\n",
        "weather.head()"
      ],
      "metadata": {
        "id": "fmLi4hfT5Vke"
      },
      "execution_count": null,
      "outputs": []
    },
    {
      "cell_type": "code",
      "source": [
        "weather.info()"
      ],
      "metadata": {
        "id": "B5M6UgFS5Zyf"
      },
      "execution_count": null,
      "outputs": []
    },
    {
      "cell_type": "code",
      "source": [
        "weather.describe()"
      ],
      "metadata": {
        "id": "ncNI9V8z5avT"
      },
      "execution_count": null,
      "outputs": []
    },
    {
      "cell_type": "code",
      "source": [
        "snow_data = weather.query('datatype == \"PRCP\" and station.str.contains(\"S0007\")', engine='python')\n",
        "snow_data.head()"
      ],
      "metadata": {
        "id": "c-tFzv1U5gN2"
      },
      "execution_count": null,
      "outputs": []
    },
    {
      "cell_type": "code",
      "source": [
        "weather['attributes'].unique()"
      ],
      "metadata": {
        "id": "95VSZk0v6P41"
      },
      "execution_count": null,
      "outputs": []
    },
    {
      "cell_type": "code",
      "source": [
        "len(weather['attributes'].unique())"
      ],
      "metadata": {
        "id": "hhq1seE06DkL"
      },
      "execution_count": null,
      "outputs": []
    },
    {
      "cell_type": "code",
      "source": [
        "weather['attributes'].value_counts()"
      ],
      "metadata": {
        "id": "kzC6VsgR6H_g"
      },
      "execution_count": null,
      "outputs": []
    },
    {
      "cell_type": "code",
      "source": [
        "station_info = pd.read_csv('data/weather_stations.csv')\n",
        "station_info.head()"
      ],
      "metadata": {
        "id": "59_poyQl7KgU"
      },
      "execution_count": null,
      "outputs": []
    },
    {
      "cell_type": "code",
      "source": [
        "weather.head()"
      ],
      "metadata": {
        "id": "xeYjQcko9L-6"
      },
      "execution_count": null,
      "outputs": []
    },
    {
      "cell_type": "code",
      "source": [
        "station_info.id.describe()"
      ],
      "metadata": {
        "id": "EpxCHFCp9NyT"
      },
      "execution_count": null,
      "outputs": []
    },
    {
      "cell_type": "code",
      "source": [
        "weather.station.describe()"
      ],
      "metadata": {
        "id": "9vRDiKTk9T7b"
      },
      "execution_count": null,
      "outputs": []
    },
    {
      "cell_type": "code",
      "source": [
        "station_info.shape[0], weather.shape[0]"
      ],
      "metadata": {
        "id": "LAvV2c779jFX"
      },
      "execution_count": null,
      "outputs": []
    },
    {
      "cell_type": "code",
      "source": [
        "def get_row_count(*dfs):\n",
        "    return [df.shape[0] for df in dfs]\n",
        "get_row_count(station_info, weather)"
      ],
      "metadata": {
        "id": "VUJ5hZHS9sIQ"
      },
      "execution_count": null,
      "outputs": []
    },
    {
      "cell_type": "code",
      "source": [
        "inner_join = weather.merge(station_info, left_on='station', right_on='id')\n",
        "inner_join.sample(5, random_state=0)"
      ],
      "metadata": {
        "id": "Oi53nDcr-eEV"
      },
      "execution_count": null,
      "outputs": []
    },
    {
      "cell_type": "code",
      "source": [
        "inner_join.head()"
      ],
      "metadata": {
        "id": "EfAPOh_N-wwp"
      },
      "execution_count": null,
      "outputs": []
    },
    {
      "cell_type": "code",
      "source": [
        "len(inner_join)"
      ],
      "metadata": {
        "id": "-FvwrrrGAPeW"
      },
      "execution_count": null,
      "outputs": []
    },
    {
      "cell_type": "code",
      "source": [
        "weather.merge(station_info.rename(dict(id='station'), axis=1), on='station').sample(5, random_state=0)"
      ],
      "metadata": {
        "id": "G1WCNYv6AQ7f"
      },
      "execution_count": null,
      "outputs": []
    },
    {
      "cell_type": "code",
      "source": [
        "left_join = station_info.merge(weather, left_on='id', right_on='station', how='left')\n",
        "right_join = weather.merge(station_info, left_on='station', right_on='id', how='right')\n",
        "\n",
        "right_join[right_join.datatype.isna()].head()"
      ],
      "metadata": {
        "id": "-NGNJyhJBlqg"
      },
      "execution_count": null,
      "outputs": []
    },
    {
      "cell_type": "code",
      "source": [
        "right_join.datatype.isna()"
      ],
      "metadata": {
        "id": "ETyiB9RAEWYH"
      },
      "execution_count": null,
      "outputs": []
    },
    {
      "cell_type": "code",
      "source": [
        "left_join.head()"
      ],
      "metadata": {
        "id": "u5Tx4jEzDkSb"
      },
      "execution_count": null,
      "outputs": []
    },
    {
      "cell_type": "code",
      "source": [
        "right_join.head()"
      ],
      "metadata": {
        "id": "r8Y2R7CvD7wt"
      },
      "execution_count": null,
      "outputs": []
    },
    {
      "cell_type": "code",
      "source": [
        "len(left_join)"
      ],
      "metadata": {
        "id": "guoS755kCcgV"
      },
      "execution_count": null,
      "outputs": []
    },
    {
      "cell_type": "code",
      "source": [
        "len(right_join)"
      ],
      "metadata": {
        "id": "LeHNxj0TCclC"
      },
      "execution_count": null,
      "outputs": []
    },
    {
      "cell_type": "code",
      "source": [
        "left_join.sort_index(axis=1).sort_values(['date', 'station'], ignore_index=True).equals(\n",
        "    right_join.sort_index(axis=1).sort_values(['date', 'station'], ignore_index=True)\n",
        ")"
      ],
      "metadata": {
        "id": "gzBnfU0nEwKM"
      },
      "execution_count": null,
      "outputs": []
    },
    {
      "cell_type": "code",
      "source": [
        "get_row_count(inner_join, left_join, right_join)"
      ],
      "metadata": {
        "id": "DwflCYJlE0if"
      },
      "execution_count": null,
      "outputs": []
    },
    {
      "cell_type": "code",
      "source": [
        "outer_join = weather.merge(\n",
        "    station_info[station_info.id.str.contains('US1NY')], \n",
        "    left_on='station', right_on='id', how='outer', indicator=True\n",
        ")\n",
        "\n",
        "pd.concat([\n",
        "    outer_join.query(f'_merge == \"{kind}\"').sample(2, random_state=0) \n",
        "    for kind in outer_join._merge.unique()\n",
        "]).sort_index()"
      ],
      "metadata": {
        "id": "L_obpgvlE4AH"
      },
      "execution_count": null,
      "outputs": []
    },
    {
      "cell_type": "code",
      "source": [
        "len(outer_join)"
      ],
      "metadata": {
        "id": "eYkvvpMcF6LG"
      },
      "execution_count": null,
      "outputs": []
    },
    {
      "cell_type": "code",
      "source": [],
      "metadata": {
        "id": "WuJnhzI_F7KG"
      },
      "execution_count": null,
      "outputs": []
    }
  ]
}