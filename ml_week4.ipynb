{
  "nbformat": 4,
  "nbformat_minor": 0,
  "metadata": {
    "colab": {
      "private_outputs": true,
      "provenance": [],
      "authorship_tag": "ABX9TyMZEAXNQZE7w1JgTUBH9h4x",
      "include_colab_link": true
    },
    "kernelspec": {
      "name": "python3",
      "display_name": "Python 3"
    },
    "language_info": {
      "name": "python"
    },
    "accelerator": "GPU",
    "gpuClass": "standard"
  },
  "cells": [
    {
      "cell_type": "markdown",
      "metadata": {
        "id": "view-in-github",
        "colab_type": "text"
      },
      "source": [
        "<a href=\"https://colab.research.google.com/github/KyunghoonJeon/AI-for-ML/blob/main/ml_week4.ipynb\" target=\"_parent\"><img src=\"https://colab.research.google.com/assets/colab-badge.svg\" alt=\"Open In Colab\"/></a>"
      ]
    },
    {
      "cell_type": "code",
      "execution_count": null,
      "metadata": {
        "id": "LGc20_yt10kK"
      },
      "outputs": [],
      "source": [
        "from google.colab import drive\n",
        "drive.mount('/content/drive')"
      ]
    },
    {
      "cell_type": "code",
      "source": [
        "cd /content/drive/MyDrive/Hands-On-Data-Analysis/ch_02"
      ],
      "metadata": {
        "id": "ScTnxc_P2iz9"
      },
      "execution_count": null,
      "outputs": []
    },
    {
      "cell_type": "code",
      "source": [
        "import numpy as np\n",
        "import pandas as pd\n",
        "df = pd.read_csv('data/earthquakes.csv')"
      ],
      "metadata": {
        "id": "CLcqq95g2pwN"
      },
      "execution_count": null,
      "outputs": []
    },
    {
      "cell_type": "code",
      "source": [
        "df.head()"
      ],
      "metadata": {
        "id": "duQal6rK2zT9"
      },
      "execution_count": null,
      "outputs": []
    },
    {
      "cell_type": "code",
      "source": [
        "df.info()"
      ],
      "metadata": {
        "id": "xLfESCJ73WHJ"
      },
      "execution_count": null,
      "outputs": []
    },
    {
      "cell_type": "code",
      "source": [
        "df[['mag','magType','type']]"
      ],
      "metadata": {
        "id": "X0JwSG3_3ZkU"
      },
      "execution_count": null,
      "outputs": []
    },
    {
      "cell_type": "code",
      "source": [
        "df['type'].unique()"
      ],
      "metadata": {
        "id": "uTW6eNt-37yL"
      },
      "execution_count": null,
      "outputs": []
    },
    {
      "cell_type": "code",
      "source": [
        "df['magType'].unique()"
      ],
      "metadata": {
        "id": "f_TV4qGR4ebX"
      },
      "execution_count": null,
      "outputs": []
    },
    {
      "cell_type": "code",
      "source": [
        "df1=df.loc[3:10, ['mag', 'magType','type']]"
      ],
      "metadata": {
        "id": "PHsOTg9B4mfQ"
      },
      "execution_count": null,
      "outputs": []
    },
    {
      "cell_type": "code",
      "source": [
        "df1"
      ],
      "metadata": {
        "id": "vph11BAJl8xZ"
      },
      "execution_count": null,
      "outputs": []
    },
    {
      "cell_type": "code",
      "source": [
        "df2=df.iloc[3:10, [8,9,21]]"
      ],
      "metadata": {
        "id": "RyDrWSnm45VS"
      },
      "execution_count": null,
      "outputs": []
    },
    {
      "cell_type": "code",
      "source": [
        "df2"
      ],
      "metadata": {
        "id": "uqzMpsS3l-gU"
      },
      "execution_count": null,
      "outputs": []
    },
    {
      "cell_type": "code",
      "source": [
        "df.loc[\n",
        "    (df.place.str.contains('Arizona')),\n",
        "    :\n",
        "]"
      ],
      "metadata": {
        "id": "VX0_WHZvk0JL"
      },
      "execution_count": null,
      "outputs": []
    },
    {
      "cell_type": "code",
      "source": [
        "df['mag'].sort_values(ascending=False).head(10)"
      ],
      "metadata": {
        "id": "nkX6oki9muZs"
      },
      "execution_count": null,
      "outputs": []
    },
    {
      "cell_type": "code",
      "source": [
        "df.sort_values(by='mag', ascending=False).head(10)"
      ],
      "metadata": {
        "id": "GuhrA8RmnsS0"
      },
      "execution_count": null,
      "outputs": []
    },
    {
      "cell_type": "code",
      "source": [
        "del df['alert']\n",
        "df.columns"
      ],
      "metadata": {
        "id": "6wyf2sKUoR9V"
      },
      "execution_count": null,
      "outputs": []
    },
    {
      "cell_type": "code",
      "source": [
        "df3 = df.pop('mag')\n",
        "df3"
      ],
      "metadata": {
        "id": "a6lK7tgGo5SF"
      },
      "execution_count": null,
      "outputs": []
    },
    {
      "cell_type": "code",
      "source": [
        "df4=df.pop('magType')\n",
        "df4"
      ],
      "metadata": {
        "id": "WubT2kgao9Uf"
      },
      "execution_count": null,
      "outputs": []
    },
    {
      "cell_type": "code",
      "source": [
        "pd.concat([df3, df4], axis=1)"
      ],
      "metadata": {
        "id": "aMI_wfeopBiq"
      },
      "execution_count": null,
      "outputs": []
    }
  ]
}