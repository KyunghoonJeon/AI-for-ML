{
  "nbformat": 4,
  "nbformat_minor": 0,
  "metadata": {
    "colab": {
      "private_outputs": true,
      "provenance": [],
      "authorship_tag": "ABX9TyOlXMFs5WmajHpQGjQ0yozF",
      "include_colab_link": true
    },
    "kernelspec": {
      "name": "python3",
      "display_name": "Python 3"
    },
    "language_info": {
      "name": "python"
    }
  },
  "cells": [
    {
      "cell_type": "markdown",
      "metadata": {
        "id": "view-in-github",
        "colab_type": "text"
      },
      "source": [
        "<a href=\"https://colab.research.google.com/github/KyunghoonJeon/AI-for-ML/blob/main/w6_prac.ipynb\" target=\"_parent\"><img src=\"https://colab.research.google.com/assets/colab-badge.svg\" alt=\"Open In Colab\"/></a>"
      ]
    },
    {
      "cell_type": "code",
      "execution_count": null,
      "metadata": {
        "id": "CxPW0sMdGRz6"
      },
      "outputs": [],
      "source": [
        "from google.colab import drive\n",
        "drive.mount('/content/drive')"
      ]
    },
    {
      "cell_type": "code",
      "source": [
        "cd /content/drive/MyDrive/Hands-On-Data-Analysis/ch_04"
      ],
      "metadata": {
        "id": "ovILryk0GXaD"
      },
      "execution_count": null,
      "outputs": []
    },
    {
      "cell_type": "code",
      "source": [
        "import numpy as np\n",
        "import pandas as pd\n",
        "\n",
        "weather = pd.read_csv('data/nyc_weather_2018.csv', parse_dates=['date'])\n",
        "weather.head()"
      ],
      "metadata": {
        "id": "l-3UrW3FGsa1"
      },
      "execution_count": null,
      "outputs": []
    },
    {
      "cell_type": "code",
      "source": [
        "fb = pd.read_csv('data/fb_2018.csv', index_col='date', parse_dates=True)\n",
        "fb.head()"
      ],
      "metadata": {
        "id": "FA1oZp_SGy-E"
      },
      "execution_count": null,
      "outputs": []
    },
    {
      "cell_type": "code",
      "source": [
        "\n",
        "fb.assign(\n",
        "    abs_z_score_volume=lambda x: \\\n",
        "        x.volume.sub(x.volume.mean()).div(x.volume.std()).abs()\n",
        ").query('abs_z_score_volume > 3')\n",
        "     "
      ],
      "metadata": {
        "id": "MBcPdTeOG0cv"
      },
      "execution_count": null,
      "outputs": []
    },
    {
      "cell_type": "code",
      "source": [
        "\n",
        "fb.assign(\n",
        "    volume_pct_change=fb.volume.pct_change(),\n",
        "    pct_change_rank=lambda x: \\\n",
        "        x.volume_pct_change.abs().rank(ascending=False)\n",
        ").nsmallest(5, 'pct_change_rank')"
      ],
      "metadata": {
        "id": "dLbAX5vgG09m"
      },
      "execution_count": null,
      "outputs": []
    },
    {
      "cell_type": "code",
      "source": [
        "fb[volume_binned == 'high'].sort_values('volume', ascending=False)"
      ],
      "metadata": {
        "id": "8eHQlyUYJZCe"
      },
      "execution_count": null,
      "outputs": []
    },
    {
      "cell_type": "code",
      "source": [
        "fb = pd.read_csv('data/fb_2018.csv', index_col='date', parse_dates=True).assign(\n",
        "    trading_volume=lambda x: pd.cut(x.volume, bins=3, labels=['low', 'med', 'high'])\n",
        ")\n",
        "fb.head()"
      ],
      "metadata": {
        "id": "sQrxyXsEJfRm"
      },
      "execution_count": null,
      "outputs": []
    },
    {
      "cell_type": "code",
      "source": [
        "\n",
        "weather = pd.read_csv('data/weather_by_station.csv', index_col='date', parse_dates=True)\n",
        "weather.head()\n",
        "     "
      ],
      "metadata": {
        "id": "499eIbXYJuNW"
      },
      "execution_count": null,
      "outputs": []
    },
    {
      "cell_type": "code",
      "source": [
        "\n",
        "pd.set_option('display.float_format', lambda x: '%.2f' % x)"
      ],
      "metadata": {
        "id": "He2xu8imJw3y"
      },
      "execution_count": null,
      "outputs": []
    },
    {
      "cell_type": "code",
      "source": [
        "fb.pivot_table(columns='trading_volume')"
      ],
      "metadata": {
        "id": "Epm2mdGAKisj"
      },
      "execution_count": null,
      "outputs": []
    },
    {
      "cell_type": "code",
      "source": [
        "fb.pivot_table(index='trading_volume')"
      ],
      "metadata": {
        "id": "2Vh6yqNcKlfb"
      },
      "execution_count": null,
      "outputs": []
    },
    {
      "cell_type": "code",
      "source": [
        "weather.reset_index().pivot_table(\n",
        "    index=['date', 'station', 'station_name'], \n",
        "    columns='datatype', \n",
        "    values='value',\n",
        "    aggfunc='median'\n",
        ").reset_index().tail()"
      ],
      "metadata": {
        "id": "fVDMPArvKmEE"
      },
      "execution_count": null,
      "outputs": []
    },
    {
      "cell_type": "code",
      "source": [
        "pd.crosstab(\n",
        "    index=fb.trading_volume,\n",
        "    columns=fb.index.month,\n",
        "    colnames=['month'] # name the columns index\n",
        ")"
      ],
      "metadata": {
        "id": "ssn9OQtwK9DC"
      },
      "execution_count": null,
      "outputs": []
    },
    {
      "cell_type": "code",
      "source": [
        "fb.pivot_table(\n",
        "    index='trading_volume', columns = fb.index.month, values='close', aggfunc='count'\n",
        ")"
      ],
      "metadata": {
        "id": "gmP-gJakQ0Qb"
      },
      "execution_count": null,
      "outputs": []
    }
  ]
}