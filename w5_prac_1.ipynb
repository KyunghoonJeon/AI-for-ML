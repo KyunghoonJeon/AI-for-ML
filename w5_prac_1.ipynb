{
  "nbformat": 4,
  "nbformat_minor": 0,
  "metadata": {
    "colab": {
      "private_outputs": true,
      "provenance": [],
      "authorship_tag": "ABX9TyNuBASwJ1nxoUojeWxZ438X",
      "include_colab_link": true
    },
    "kernelspec": {
      "name": "python3",
      "display_name": "Python 3"
    },
    "language_info": {
      "name": "python"
    }
  },
  "cells": [
    {
      "cell_type": "markdown",
      "metadata": {
        "id": "view-in-github",
        "colab_type": "text"
      },
      "source": [
        "<a href=\"https://colab.research.google.com/github/KyunghoonJeon/AI-for-ML/blob/main/w5_prac_1.ipynb\" target=\"_parent\"><img src=\"https://colab.research.google.com/assets/colab-badge.svg\" alt=\"Open In Colab\"/></a>"
      ]
    },
    {
      "cell_type": "code",
      "execution_count": null,
      "metadata": {
        "id": "rRsvD_E1rMwJ"
      },
      "outputs": [],
      "source": [
        "from google.colab import drive\n",
        "drive.mount('/content/drive')"
      ]
    },
    {
      "cell_type": "code",
      "source": [
        "cd /content/drive/MyDrive/Hands-On-Data-Analysis/ch_03"
      ],
      "metadata": {
        "id": "MwIGstTfrVW5"
      },
      "execution_count": null,
      "outputs": []
    },
    {
      "cell_type": "code",
      "source": [
        "import numpy as np\n",
        "import pandas as pd\n",
        "df = pd.read_csv('data/long_data.csv')"
      ],
      "metadata": {
        "id": "X44aPi8qrWNK"
      },
      "execution_count": null,
      "outputs": []
    },
    {
      "cell_type": "code",
      "source": [
        "df.info()"
      ],
      "metadata": {
        "id": "H4h2NhhSrv9G"
      },
      "execution_count": null,
      "outputs": []
    },
    {
      "cell_type": "code",
      "source": [
        "df.head()"
      ],
      "metadata": {
        "id": "x8ZzuUIMsFrA"
      },
      "execution_count": null,
      "outputs": []
    },
    {
      "cell_type": "code",
      "source": [
        "df['station'].unique()"
      ],
      "metadata": {
        "id": "v5UzG3xPr7-W"
      },
      "execution_count": null,
      "outputs": []
    },
    {
      "cell_type": "code",
      "source": [
        "df['datatype'].unique()"
      ],
      "metadata": {
        "id": "Rt5BFUNms3ey"
      },
      "execution_count": null,
      "outputs": []
    },
    {
      "cell_type": "code",
      "source": [
        "long_df = pd.read_csv(\n",
        "    'data/long_data.csv', usecols=['date', 'datatype', 'value']\n",
        ").rename(\n",
        "    columns={'value': 'temp_C'}\n",
        ").assign(\n",
        "    date=lambda x: pd.to_datetime(x.date),\n",
        "    temp_F=lambda x: (x.temp_C * 9/5) + 32\n",
        ")\n",
        "long_df.head()"
      ],
      "metadata": {
        "id": "2oKmaoBurkGP"
      },
      "execution_count": null,
      "outputs": []
    },
    {
      "cell_type": "code",
      "source": [
        "long_df.set_index('date').head(6)"
      ],
      "metadata": {
        "id": "IXluaQhcr3FY"
      },
      "execution_count": null,
      "outputs": []
    },
    {
      "cell_type": "code",
      "source": [
        "long_df.set_index('date').head(6).T"
      ],
      "metadata": {
        "id": "DHgyBwMssmn7"
      },
      "execution_count": null,
      "outputs": []
    },
    {
      "cell_type": "code",
      "source": [
        "pivoted_df = long_df.pivot(\n",
        "    index='date', columns='datatype', values='temp_C'\n",
        ")\n",
        "pivoted_df.head()"
      ],
      "metadata": {
        "id": "tMLFjO4sspfa"
      },
      "execution_count": null,
      "outputs": []
    },
    {
      "cell_type": "code",
      "source": [
        "pivoted_df.describe()"
      ],
      "metadata": {
        "id": "y91KIU9IszkQ"
      },
      "execution_count": null,
      "outputs": []
    },
    {
      "cell_type": "code",
      "source": [
        "pivoted_df = long_df.pivot(\n",
        "    index='date', columns='datatype', values=['temp_C', 'temp_F']\n",
        ")\n",
        "pivoted_df.head()"
      ],
      "metadata": {
        "id": "q0WgsaegtCxu"
      },
      "execution_count": null,
      "outputs": []
    },
    {
      "cell_type": "code",
      "source": [
        "pivoted_df['temp_F']['TMIN'].head()"
      ],
      "metadata": {
        "id": "wtg__BQAtJns"
      },
      "execution_count": null,
      "outputs": []
    },
    {
      "cell_type": "code",
      "source": [
        "multi_index_df = long_df.set_index(['date', 'datatype'])\n",
        "multi_index_df.head().index"
      ],
      "metadata": {
        "id": "OU0yqrsatpTP"
      },
      "execution_count": null,
      "outputs": []
    },
    {
      "cell_type": "code",
      "source": [
        "multi_index_df.head()"
      ],
      "metadata": {
        "id": "xExPXP62uHCY"
      },
      "execution_count": null,
      "outputs": []
    },
    {
      "cell_type": "code",
      "source": [
        "unstacked_df = multi_index_df.unstack()\n",
        "unstacked_df.head()"
      ],
      "metadata": {
        "id": "obm6DHeWuZjR"
      },
      "execution_count": null,
      "outputs": []
    },
    {
      "cell_type": "code",
      "source": [
        "wide_df = pd.read_csv('data/wide_data.csv')\n",
        "wide_df.head()"
      ],
      "metadata": {
        "id": "zjwTK84Fu8WW"
      },
      "execution_count": null,
      "outputs": []
    },
    {
      "cell_type": "code",
      "source": [
        "melted_df = wide_df.melt(\n",
        "    id_vars='date',\n",
        "    value_vars=['TMAX', 'TMIN', 'TOBS'],\n",
        "    value_name='temp_C',\n",
        "    var_name='measurement'\n",
        ")\n",
        "melted_df.head()"
      ],
      "metadata": {
        "id": "cFV3PU7YvEfn"
      },
      "execution_count": null,
      "outputs": []
    },
    {
      "cell_type": "code",
      "source": [
        "wide_df.set_index('date', inplace=True)\n",
        "wide_df.head()"
      ],
      "metadata": {
        "id": "OQuWtpwXvUxo"
      },
      "execution_count": null,
      "outputs": []
    },
    {
      "cell_type": "code",
      "source": [
        "stacked_series = wide_df.stack()\n",
        "stacked_series.head()"
      ],
      "metadata": {
        "id": "zI6VYqmxvt4J"
      },
      "execution_count": null,
      "outputs": []
    },
    {
      "cell_type": "code",
      "source": [
        "stacked_df = stacked_series.to_frame('values')\n",
        "stacked_df.head()"
      ],
      "metadata": {
        "id": "TgKqwlQawNXX"
      },
      "execution_count": null,
      "outputs": []
    },
    {
      "cell_type": "code",
      "source": [
        "stacked_df.head().index"
      ],
      "metadata": {
        "id": "7cjVIgn_wN43"
      },
      "execution_count": null,
      "outputs": []
    },
    {
      "cell_type": "code",
      "source": [
        "stacked_df.index.names"
      ],
      "metadata": {
        "id": "B-e-Ec_qwfIf"
      },
      "execution_count": null,
      "outputs": []
    },
    {
      "cell_type": "code",
      "source": [
        "stacked_df.index.set_names(['date', 'datatype'], inplace=True)\n",
        "stacked_df.index.names"
      ],
      "metadata": {
        "id": "K5AGJ3PGwr-w"
      },
      "execution_count": null,
      "outputs": []
    },
    {
      "cell_type": "code",
      "source": [
        "stacked_df.head()"
      ],
      "metadata": {
        "id": "tGbryY3Qwwpf"
      },
      "execution_count": null,
      "outputs": []
    },
    {
      "cell_type": "code",
      "source": [
        "df1 = pd.read_csv('data/dirty_data.csv')"
      ],
      "metadata": {
        "id": "cSrCXRC9xJMf"
      },
      "execution_count": null,
      "outputs": []
    },
    {
      "cell_type": "code",
      "source": [
        "df1.head()"
      ],
      "metadata": {
        "id": "3R2nf561xMqb"
      },
      "execution_count": null,
      "outputs": []
    },
    {
      "cell_type": "code",
      "source": [
        "df1.info()"
      ],
      "metadata": {
        "id": "KR3csbpbxNhP"
      },
      "execution_count": null,
      "outputs": []
    },
    {
      "cell_type": "code",
      "source": [
        "df1.describe()"
      ],
      "metadata": {
        "id": "-HO_8NJqxPla"
      },
      "execution_count": null,
      "outputs": []
    },
    {
      "cell_type": "code",
      "source": [
        "contain_nulls = df1[\n",
        "    df1.SNOW.isna() | df1.SNWD.isna() | df1.TOBS.isna()\n",
        "    | df1.WESF.isna() | df1.inclement_weather.isna()\n",
        "]\n",
        "contain_nulls.shape[0]"
      ],
      "metadata": {
        "id": "UwBCC0LUxYzx"
      },
      "execution_count": null,
      "outputs": []
    },
    {
      "cell_type": "code",
      "source": [
        "contain_nulls.head(10)"
      ],
      "metadata": {
        "id": "g2H5SO6Bx0eD"
      },
      "execution_count": null,
      "outputs": []
    },
    {
      "cell_type": "code",
      "source": [
        "df1[df1.inclement_weather.isna()].shape[0]"
      ],
      "metadata": {
        "id": "w22WTb-yyGvt"
      },
      "execution_count": null,
      "outputs": []
    },
    {
      "cell_type": "code",
      "source": [
        "df1[df1.SNWD.isin([-np.inf, np.inf])].shape[0]"
      ],
      "metadata": {
        "id": "sQ2abf6iymuI"
      },
      "execution_count": null,
      "outputs": []
    },
    {
      "cell_type": "code",
      "source": [
        "def get_inf_count(df):\n",
        "    \"\"\"Find the number of inf/-inf values per column in the dataframe\"\"\"\n",
        "    return {\n",
        "        col: df[df[col].isin([np.inf, -np.inf])].shape[0] for col in df.columns\n",
        "    }\n",
        "\n",
        "get_inf_count(df1)"
      ],
      "metadata": {
        "id": "eliQpSDNy4_d"
      },
      "execution_count": null,
      "outputs": []
    },
    {
      "cell_type": "code",
      "source": [
        "pd.DataFrame({\n",
        "    'np.inf Snow Depth': df1[df1.SNWD == np.inf].SNOW.describe(),\n",
        "    '-np.inf Snow Depth': df1[df1.SNWD == -np.inf].SNOW.describe()\n",
        "}).T"
      ],
      "metadata": {
        "id": "JXLkyJevzXqg"
      },
      "execution_count": null,
      "outputs": []
    },
    {
      "cell_type": "code",
      "source": [
        "df.describe(include='object')"
      ],
      "metadata": {
        "id": "wuLSTzomzZcO"
      },
      "execution_count": null,
      "outputs": []
    },
    {
      "cell_type": "code",
      "source": [
        "df1[df1.duplicated()].shape[0]"
      ],
      "metadata": {
        "id": "Q1RwNai91QbQ"
      },
      "execution_count": null,
      "outputs": []
    },
    {
      "cell_type": "code",
      "source": [
        "df1.duplicated()"
      ],
      "metadata": {
        "id": "Nz_YUNAs1S8C"
      },
      "execution_count": null,
      "outputs": []
    },
    {
      "cell_type": "code",
      "source": [
        "df1[df1.duplicated()].head()"
      ],
      "metadata": {
        "id": "65pTvigB1VvA"
      },
      "execution_count": null,
      "outputs": []
    },
    {
      "cell_type": "code",
      "source": [
        "df1[df1.WESF.notna()].station.unique()"
      ],
      "metadata": {
        "id": "E6eCLGvu2LFF"
      },
      "execution_count": null,
      "outputs": []
    },
    {
      "cell_type": "code",
      "source": [
        "# 1. make the date a datetime\n",
        "df.date = pd.to_datetime(df1.date)\n",
        "\n",
        "# 2. save this information for later\n",
        "station_qm_wesf = df1[df1.station == '?'].drop_duplicates('date').set_index('date').WESF\n",
        "\n",
        "# 3. sort ? to the bottom\n",
        "df1.sort_values('station', ascending=False, inplace=True)\n",
        "\n",
        "# 4. drop duplicates based on the date column keeping the first occurrence \n",
        "# which will be the valid station if it has data\n",
        "df1_deduped = df1.drop_duplicates('date')\n",
        "\n",
        "# 5. remove the station column because we are done with it\n",
        "df1_deduped = df1_deduped.drop(columns='station').set_index('date').sort_index()\n",
        "\n",
        "# 6. take valid station's WESF and fall back on station ? if it is null\n",
        "df1_deduped = df1_deduped.assign(\n",
        "    WESF=lambda x: x.WESF.combine_first(station_qm_wesf)\n",
        ")\n",
        "\n",
        "df1_deduped.shape"
      ],
      "metadata": {
        "id": "Ai_AjaYX3C5A"
      },
      "execution_count": null,
      "outputs": []
    },
    {
      "cell_type": "code",
      "source": [
        "df1_deduped.head()"
      ],
      "metadata": {
        "id": "AyVUPeyg3hUm"
      },
      "execution_count": null,
      "outputs": []
    }
  ]
}